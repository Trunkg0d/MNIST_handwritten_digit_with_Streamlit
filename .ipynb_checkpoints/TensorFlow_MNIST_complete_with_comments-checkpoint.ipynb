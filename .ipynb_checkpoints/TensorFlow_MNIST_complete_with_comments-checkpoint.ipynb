{
 "cells": [
  {
   "cell_type": "markdown",
   "metadata": {},
   "source": [
    "# Deep Neural Network for MNIST Classification\n",
    "\n",
    "We'll apply all the knowledge from the lectures in this section to write a deep neural network. The problem we've chosen is referred to as the \"Hello World\" of deep learning because for most students it is the first deep learning algorithm they see.\n",
    "\n",
    "The dataset is called MNIST and refers to handwritten digit recognition. You can find more about it on Yann LeCun's website (Director of AI Research, Facebook). He is one of the pioneers of what we've been talking about and of more complex approaches that are widely used today, such as covolutional neural networks (CNNs). \n",
    "\n",
    "The dataset provides 70,000 images (28x28 pixels) of handwritten digits (1 digit per image). \n",
    "\n",
    "The goal is to write an algorithm that detects which digit is written. Since there are only 10 digits (0, 1, 2, 3, 4, 5, 6, 7, 8, 9), this is a classification problem with 10 classes. \n",
    "\n",
    "Our goal would be to build a neural network with 2 hidden layers."
   ]
  },
  {
   "cell_type": "markdown",
   "metadata": {},
   "source": [
    "## Import the relevant packages"
   ]
  },
  {
   "cell_type": "code",
   "execution_count": 1,
   "metadata": {},
   "outputs": [
    {
     "name": "stderr",
     "output_type": "stream",
     "text": [
      "D:\\anaconda\\envs\\py3-TF2.0\\lib\\site-packages\\tqdm\\auto.py:21: TqdmWarning: IProgress not found. Please update jupyter and ipywidgets. See https://ipywidgets.readthedocs.io/en/stable/user_install.html\n",
      "  from .autonotebook import tqdm as notebook_tqdm\n"
     ]
    }
   ],
   "source": [
    "import numpy as np\n",
    "import tensorflow as tf\n",
    "\n",
    "# TensorFLow includes a data provider for MNIST that we'll use.\n",
    "# It comes with the tensorflow-datasets module, therefore, if you haven't please install the package using\n",
    "# pip install tensorflow-datasets \n",
    "# or\n",
    "# conda install tensorflow-datasets\n",
    "\n",
    "import tensorflow_datasets as tfds\n",
    "\n",
    "# these datasets will be stored in C:\\Users\\*USERNAME*\\tensorflow_datasets\\...\n",
    "# the first time you download a dataset, it is stored in the respective folder \n",
    "# every other time, it is automatically loading the copy on your computer "
   ]
  },
  {
   "cell_type": "markdown",
   "metadata": {},
   "source": [
    "## Data\n",
    "\n",
    "That's where we load and preprocess our data."
   ]
  },
  {
   "cell_type": "code",
   "execution_count": 2,
   "metadata": {},
   "outputs": [
    {
     "name": "stderr",
     "output_type": "stream",
     "text": [
      "WARNING:absl:Found a different version 3.0.1 of dataset mnist in data_dir C:\\Users\\Trung\\tensorflow_datasets. Using currently defined version 1.0.0.\n",
      "WARNING:absl:Warning: Setting shuffle_files=True because split=TRAIN and shuffle_files=None. This behavior will be deprecated on 2019-08-06, at which point shuffle_files=False will be the default for all splits.\n"
     ]
    }
   ],
   "source": [
    "# remember the comment from above\n",
    "# these datasets will be stored in C:\\Users\\*USERNAME*\\tensorflow_datasets\\...\n",
    "# the first time you download a dataset, it is stored in the respective folder \n",
    "# every other time, it is automatically loading the copy on your computer \n",
    "\n",
    "# tfds.load actually loads a dataset (or downloads and then loads if that's the first time you use it) \n",
    "# in our case, we are interesteed in the MNIST; the name of the dataset is the only mandatory argument\n",
    "# there are other arguments we can specify, which we can find useful\n",
    "# mnist_dataset = tfds.load(name='mnist', as_supervised=True)\n",
    "mnist_dataset, mnist_info = tfds.load(name='mnist', with_info=True, as_supervised=True)\n",
    "# with_info=True will also provide us with a tuple containing information about the version, features, number of samples\n",
    "# we will use this information a bit below and we will store it in mnist_info\n",
    "\n",
    "# as_supervised=True will load the dataset in a 2-tuple structure (input, target) \n",
    "# alternatively, as_supervised=False, would return a dictionary\n",
    "# obviously we prefer to have our inputs and targets separated \n",
    "\n",
    "# once we have loaded the dataset, we can easily extract the training and testing dataset with the built references\n",
    "mnist_train, mnist_test = mnist_dataset['train'], mnist_dataset['test']\n",
    "\n",
    "# by default, TF has training and testing datasets, but no validation sets\n",
    "# thus we must split it on our own\n",
    "\n",
    "# we start by defining the number of validation samples as a % of the train samples\n",
    "# this is also where we make use of mnist_info (we don't have to count the observations)\n",
    "num_validation_samples = 0.1 * mnist_info.splits['train'].num_examples\n",
    "# let's cast this number to an integer, as a float may cause an error along the way\n",
    "num_validation_samples = tf.cast(num_validation_samples, tf.int64)\n",
    "\n",
    "# let's also store the number of test samples in a dedicated variable (instead of using the mnist_info one)\n",
    "num_test_samples = mnist_info.splits['test'].num_examples\n",
    "# once more, we'd prefer an integer (rather than the default float)\n",
    "num_test_samples = tf.cast(num_test_samples, tf.int64)\n",
    "\n",
    "\n",
    "# normally, we would like to scale our data in some way to make the result more numerically stable\n",
    "# in this case we will simply prefer to have inputs between 0 and 1\n",
    "# let's define a function called: scale, that will take an MNIST image and its label\n",
    "def scale(image, label):\n",
    "    # we make sure the value is a float\n",
    "    image = tf.cast(image, tf.float32)\n",
    "    # since the possible values for the inputs are 0 to 255 (256 different shades of grey)\n",
    "    # if we divide each element by 255, we would get the desired result -> all elements will be between 0 and 1 \n",
    "    image /= 255.\n",
    "\n",
    "    return image, label\n",
    "\n",
    "\n",
    "# the method .map() allows us to apply a custom transformation to a given dataset\n",
    "# we have already decided that we will get the validation data from mnist_train, so \n",
    "scaled_train_and_validation_data = mnist_train.map(scale)\n",
    "\n",
    "# finally, we scale and batch the test data\n",
    "# we scale it so it has the same magnitude as the train and validation\n",
    "# there is no need to shuffle it, because we won't be training on the test data\n",
    "# there would be a single batch, equal to the size of the test data\n",
    "test_data = mnist_test.map(scale)\n",
    "\n",
    "\n",
    "# let's also shuffle the data\n",
    "\n",
    "BUFFER_SIZE = 10000\n",
    "# this BUFFER_SIZE parameter is here for cases when we're dealing with enormous datasets\n",
    "# then we can't shuffle the whole dataset in one go because we can't fit it all in memory\n",
    "# so instead TF only stores BUFFER_SIZE samples in memory at a time and shuffles them\n",
    "# if BUFFER_SIZE=1 => no shuffling will actually happen\n",
    "# if BUFFER_SIZE >= num samples => shuffling is uniform\n",
    "# BUFFER_SIZE in between - a computational optimization to approximate uniform shuffling\n",
    "\n",
    "# luckily for us, there is a shuffle method readily available and we just need to specify the buffer size\n",
    "shuffled_train_and_validation_data = scaled_train_and_validation_data.shuffle(BUFFER_SIZE)\n",
    "\n",
    "# once we have scaled and shuffled the data, we can proceed to actually extracting the train and validation\n",
    "# our validation data would be equal to 10% of the training set, which we've already calculated\n",
    "# we use the .take() method to take that many samples\n",
    "# finally, we create a batch with a batch size equal to the total number of validation samples\n",
    "validation_data = shuffled_train_and_validation_data.take(num_validation_samples)\n",
    "\n",
    "# similarly, the train_data is everything else, so we skip as many samples as there are in the validation dataset\n",
    "train_data = shuffled_train_and_validation_data.skip(num_validation_samples)\n",
    "\n",
    "# determine the batch size\n",
    "BATCH_SIZE = 100\n",
    "\n",
    "# we can also take advantage of the occasion to batch the train data\n",
    "# this would be very helpful when we train, as we would be able to iterate over the different batches\n",
    "train_data = train_data.batch(BATCH_SIZE)\n",
    "\n",
    "validation_data = validation_data.batch(num_validation_samples)\n",
    "\n",
    "# batch the test data\n",
    "test_data = test_data.batch(num_test_samples)\n",
    "\n",
    "\n",
    "# takes next batch (it is the only batch)\n",
    "# because as_supervized=True, we've got a 2-tuple structure\n",
    "validation_inputs, validation_targets = next(iter(validation_data))"
   ]
  },
  {
   "cell_type": "markdown",
   "metadata": {},
   "source": [
    "## Model"
   ]
  },
  {
   "cell_type": "markdown",
   "metadata": {},
   "source": [
    "### Outline the model\n",
    "When thinking about a deep learning algorithm, we mostly imagine building the model. So, let's do it :)"
   ]
  },
  {
   "cell_type": "code",
   "execution_count": 3,
   "metadata": {},
   "outputs": [],
   "source": [
    "input_size = 784\n",
    "output_size = 10\n",
    "# Use same hidden layer size for both hidden layers. Not a necessity.\n",
    "hidden_layer_size = 50\n",
    "    \n",
    "# define how the model will look like\n",
    "model = tf.keras.Sequential([\n",
    "    \n",
    "    # the first layer (the input layer)\n",
    "    # each observation is 28x28x1 pixels, therefore it is a tensor of rank 3\n",
    "    # since we don't know CNNs yet, we don't know how to feed such input into our net, so we must flatten the images\n",
    "    # there is a convenient method 'Flatten' that simply takes our 28x28x1 tensor and orders it into a (None,) \n",
    "    # or (28x28x1,) = (784,) vector\n",
    "    # this allows us to actually create a feed forward neural network\n",
    "    tf.keras.layers.Flatten(input_shape=(28, 28, 1)), # input layer\n",
    "    \n",
    "    # tf.keras.layers.Dense is basically implementing: output = activation(dot(input, weight) + bias)\n",
    "    # it takes several arguments, but the most important ones for us are the hidden_layer_size and the activation function\n",
    "    tf.keras.layers.Dense(hidden_layer_size, activation='relu'), # 1st hidden layer\n",
    "    tf.keras.layers.Dense(hidden_layer_size, activation='relu'), # 2nd hidden layer\n",
    "    \n",
    "    # the final layer is no different, we just make sure to activate it with softmax\n",
    "    tf.keras.layers.Dense(output_size, activation='softmax') # output layer\n",
    "])"
   ]
  },
  {
   "cell_type": "markdown",
   "metadata": {},
   "source": [
    "### Choose the optimizer and the loss function"
   ]
  },
  {
   "cell_type": "code",
   "execution_count": 4,
   "metadata": {},
   "outputs": [],
   "source": [
    "# we define the optimizer we'd like to use, \n",
    "# the loss function, \n",
    "# and the metrics we are interested in obtaining at each iteration\n",
    "model.compile(optimizer='adam', loss='sparse_categorical_crossentropy', metrics=['accuracy'])"
   ]
  },
  {
   "cell_type": "markdown",
   "metadata": {},
   "source": [
    "### Training\n",
    "That's where we train the model we have built."
   ]
  },
  {
   "cell_type": "code",
   "execution_count": null,
   "metadata": {},
   "outputs": [
    {
     "name": "stdout",
     "output_type": "stream",
     "text": [
      "Epoch 1/100\n",
      "540/540 - 7s - loss: 0.4060 - accuracy: 0.8861 - val_loss: 0.2190 - val_accuracy: 0.9415 - 7s/epoch - 13ms/step\n",
      "Epoch 2/100\n",
      "540/540 - 5s - loss: 0.1777 - accuracy: 0.9481 - val_loss: 0.1704 - val_accuracy: 0.9530 - 5s/epoch - 9ms/step\n",
      "Epoch 3/100\n",
      "540/540 - 5s - loss: 0.1364 - accuracy: 0.9604 - val_loss: 0.1371 - val_accuracy: 0.9590 - 5s/epoch - 9ms/step\n",
      "Epoch 4/100\n",
      "540/540 - 6s - loss: 0.1119 - accuracy: 0.9673 - val_loss: 0.1223 - val_accuracy: 0.9642 - 6s/epoch - 11ms/step\n",
      "Epoch 5/100\n",
      "540/540 - 5s - loss: 0.0965 - accuracy: 0.9710 - val_loss: 0.1091 - val_accuracy: 0.9693 - 5s/epoch - 10ms/step\n",
      "Epoch 6/100\n",
      "540/540 - 5s - loss: 0.0833 - accuracy: 0.9749 - val_loss: 0.0984 - val_accuracy: 0.9713 - 5s/epoch - 9ms/step\n",
      "Epoch 7/100\n",
      "540/540 - 5s - loss: 0.0734 - accuracy: 0.9781 - val_loss: 0.0956 - val_accuracy: 0.9738 - 5s/epoch - 10ms/step\n",
      "Epoch 8/100\n",
      "540/540 - 6s - loss: 0.0660 - accuracy: 0.9798 - val_loss: 0.0883 - val_accuracy: 0.9750 - 6s/epoch - 10ms/step\n",
      "Epoch 9/100\n",
      "540/540 - 5s - loss: 0.0585 - accuracy: 0.9822 - val_loss: 0.0829 - val_accuracy: 0.9768 - 5s/epoch - 9ms/step\n",
      "Epoch 10/100\n",
      "540/540 - 5s - loss: 0.0545 - accuracy: 0.9832 - val_loss: 0.0794 - val_accuracy: 0.9758 - 5s/epoch - 8ms/step\n",
      "Epoch 11/100\n",
      "540/540 - 4s - loss: 0.0498 - accuracy: 0.9849 - val_loss: 0.0662 - val_accuracy: 0.9800 - 4s/epoch - 8ms/step\n",
      "Epoch 12/100\n",
      "540/540 - 5s - loss: 0.0469 - accuracy: 0.9854 - val_loss: 0.0669 - val_accuracy: 0.9800 - 5s/epoch - 9ms/step\n",
      "Epoch 13/100\n",
      "540/540 - 5s - loss: 0.0421 - accuracy: 0.9866 - val_loss: 0.0603 - val_accuracy: 0.9820 - 5s/epoch - 9ms/step\n",
      "Epoch 14/100\n",
      "540/540 - 5s - loss: 0.0389 - accuracy: 0.9879 - val_loss: 0.0518 - val_accuracy: 0.9837 - 5s/epoch - 9ms/step\n",
      "Epoch 15/100\n",
      "540/540 - 5s - loss: 0.0335 - accuracy: 0.9893 - val_loss: 0.0430 - val_accuracy: 0.9867 - 5s/epoch - 9ms/step\n",
      "Epoch 16/100\n",
      "540/540 - 5s - loss: 0.0315 - accuracy: 0.9900 - val_loss: 0.0461 - val_accuracy: 0.9853 - 5s/epoch - 10ms/step\n",
      "Epoch 17/100\n",
      "540/540 - 5s - loss: 0.0281 - accuracy: 0.9908 - val_loss: 0.0422 - val_accuracy: 0.9887 - 5s/epoch - 9ms/step\n",
      "Epoch 18/100\n",
      "540/540 - 5s - loss: 0.0269 - accuracy: 0.9914 - val_loss: 0.0518 - val_accuracy: 0.9835 - 5s/epoch - 9ms/step\n",
      "Epoch 19/100\n",
      "540/540 - 4s - loss: 0.0245 - accuracy: 0.9921 - val_loss: 0.0375 - val_accuracy: 0.9880 - 4s/epoch - 8ms/step\n",
      "Epoch 20/100\n",
      "540/540 - 5s - loss: 0.0219 - accuracy: 0.9932 - val_loss: 0.0335 - val_accuracy: 0.9907 - 5s/epoch - 9ms/step\n",
      "Epoch 21/100\n",
      "540/540 - 5s - loss: 0.0198 - accuracy: 0.9935 - val_loss: 0.0300 - val_accuracy: 0.9917 - 5s/epoch - 10ms/step\n",
      "Epoch 22/100\n",
      "540/540 - 5s - loss: 0.0200 - accuracy: 0.9935 - val_loss: 0.0383 - val_accuracy: 0.9887 - 5s/epoch - 10ms/step\n",
      "Epoch 23/100\n",
      "540/540 - 6s - loss: 0.0183 - accuracy: 0.9940 - val_loss: 0.0278 - val_accuracy: 0.9917 - 6s/epoch - 10ms/step\n",
      "Epoch 24/100\n",
      "540/540 - 5s - loss: 0.0186 - accuracy: 0.9940 - val_loss: 0.0248 - val_accuracy: 0.9920 - 5s/epoch - 9ms/step\n",
      "Epoch 25/100\n",
      "540/540 - 6s - loss: 0.0140 - accuracy: 0.9957 - val_loss: 0.0248 - val_accuracy: 0.9923 - 6s/epoch - 10ms/step\n",
      "Epoch 26/100\n",
      "540/540 - 4s - loss: 0.0132 - accuracy: 0.9961 - val_loss: 0.0235 - val_accuracy: 0.9922 - 4s/epoch - 8ms/step\n",
      "Epoch 27/100\n",
      "540/540 - 4s - loss: 0.0160 - accuracy: 0.9947 - val_loss: 0.0202 - val_accuracy: 0.9938 - 4s/epoch - 8ms/step\n",
      "Epoch 28/100\n",
      "540/540 - 5s - loss: 0.0128 - accuracy: 0.9961 - val_loss: 0.0172 - val_accuracy: 0.9943 - 5s/epoch - 9ms/step\n",
      "Epoch 29/100\n",
      "540/540 - 4s - loss: 0.0096 - accuracy: 0.9973 - val_loss: 0.0160 - val_accuracy: 0.9950 - 4s/epoch - 8ms/step\n",
      "Epoch 30/100\n",
      "540/540 - 5s - loss: 0.0121 - accuracy: 0.9962 - val_loss: 0.0299 - val_accuracy: 0.9923 - 5s/epoch - 9ms/step\n",
      "Epoch 31/100\n"
     ]
    }
   ],
   "source": [
    "# determine the maximum number of epochs\n",
    "NUM_EPOCHS = 100\n",
    "early_stopping = tf.keras.callbacks.EarlyStopping(patience=2)\n",
    "# we fit the model, specifying the\n",
    "# training data: train_data is tuple inputs and targets\n",
    "# the total number of epochs\n",
    "# and the validation data we just created ourselves in the format: (inputs,targets)\n",
    "model.fit(train_data, epochs=NUM_EPOCHS, validation_data=(validation_inputs, validation_targets), callbacks=[early_stopping], verbose =2)"
   ]
  },
  {
   "cell_type": "markdown",
   "metadata": {},
   "source": [
    "## Test the model\n",
    "\n",
    "As we discussed in the lectures, after training on the training data and validating on the validation data, we test the final prediction power of our model by running it on the test dataset that the algorithm has NEVER seen before.\n",
    "\n",
    "It is very important to realize that fiddling with the hyperparameters overfits the validation dataset. \n",
    "\n",
    "The test is the absolute final instance. You should not test before you are completely done with adjusting your model.\n",
    "\n",
    "If you adjust your model after testing, you will start overfitting the test dataset, which will defeat its purpose."
   ]
  },
  {
   "cell_type": "code",
   "execution_count": null,
   "metadata": {},
   "outputs": [],
   "source": [
    "test_loss, test_accuracy = model.evaluate(test_data)"
   ]
  },
  {
   "cell_type": "code",
   "execution_count": null,
   "metadata": {},
   "outputs": [],
   "source": [
    "# We can apply some nice formatting if we want to\n",
    "print('Test loss: {0:.2f}. Test accuracy: {1:.2f}%'.format(test_loss, test_accuracy*100.))"
   ]
  },
  {
   "cell_type": "markdown",
   "metadata": {},
   "source": [
    "Using the initial model and hyperparameters given in this notebook, the final test accuracy should be roughly around 97%.\n",
    "\n",
    "Each time the code is rerun, we get a different accuracy as the batches are shuffled, the weights are initialized in a different way, etc.\n",
    "\n",
    "Finally, we have intentionally reached a suboptimal solution, so you can have space to build on it."
   ]
  },
  {
   "cell_type": "code",
   "execution_count": null,
   "metadata": {},
   "outputs": [],
   "source": [
    "model.save(\"MNIST_model.h5\")"
   ]
  }
 ],
 "metadata": {
  "kernelspec": {
   "display_name": "py3-TF2.0",
   "language": "python",
   "name": "py3-tf2.0"
  },
  "language_info": {
   "codemirror_mode": {
    "name": "ipython",
    "version": 3
   },
   "file_extension": ".py",
   "mimetype": "text/x-python",
   "name": "python",
   "nbconvert_exporter": "python",
   "pygments_lexer": "ipython3",
   "version": "3.10.11"
  }
 },
 "nbformat": 4,
 "nbformat_minor": 2
}
